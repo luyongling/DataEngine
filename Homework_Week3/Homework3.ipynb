{
 "cells": [
  {
   "cell_type": "code",
   "execution_count": 8,
   "metadata": {},
   "outputs": [
    {
     "name": "stdout",
     "output_type": "stream",
     "text": [
      "     地区  人均GDP  城镇人口比重  交通工具消费价格指数  百户拥有汽车量  聚类结果\n",
      "0    北京   8.05   86.20       95.92    37.71     1\n",
      "1    天津   8.34   80.50      103.57    20.62     2\n",
      "2    河北   3.39   45.60       99.03    23.32     3\n",
      "3    山西   3.13   49.68       98.96    18.60     4\n",
      "4   内蒙古   5.79   56.62       99.11    19.62     4\n",
      "5    辽宁   5.07   64.05      100.12    11.15     4\n",
      "6    吉林   3.84   53.40       97.15    11.24     4\n",
      "7   黑龙江   3.28   56.50      100.54     5.29     0\n",
      "8    上海   8.18   89.30      101.58    18.15     2\n",
      "9    江苏   6.22   61.90       98.95    23.92     1\n",
      "10   浙江   5.92   62.30       96.69    33.85     1\n",
      "11   安徽   2.56   44.80      100.25     9.20     0\n",
      "12   福建   4.72   58.10      100.75    17.83     4\n",
      "13   江西   2.61   45.70      100.91     8.88     0\n",
      "14   山东   4.71   50.95       98.50    28.12     1\n",
      "15   河南   2.87   40.57      100.59    14.06     0\n",
      "16   湖北   3.41   51.83      101.15     9.69     0\n",
      "17   湖南   2.98   45.10      100.02    12.82     0\n",
      "18   广东   5.07   66.50       97.55    30.71     1\n",
      "19   广西   2.52   41.80      102.28    17.24     0\n",
      "20   海南   2.88   50.50      102.26    15.82     0\n",
      "21   重庆   3.43   55.02       99.12    10.44     4\n",
      "22   四川   2.61   41.83       99.76    12.52     0\n",
      "23   贵州   1.64   34.96      100.71    10.48     0\n",
      "24   云南   1.92   36.80       96.25    23.32     3\n",
      "25   西藏   2.00   22.71       99.95    25.30     3\n",
      "26   陕西   3.34   47.30      101.59    12.22     0\n",
      "27   甘肃   1.96   37.15      100.54     7.33     0\n",
      "28   青海   2.94   46.22      100.46     6.08     0\n",
      "29   宁夏   3.29   49.82      100.99    12.40     0\n",
      "30   新疆   2.99   43.54      100.97    12.32     0\n"
     ]
    },
    {
     "data": {
      "image/png": "[encoded data removed]",
      "text/plain": [
       "<Figure size 432x288 with 1 Axes>"
      ]
     },
     "metadata": {
      "needs_background": "light"
     },
     "output_type": "display_data"
    },
    {
     "name": "stdout",
     "output_type": "stream",
     "text": [
      "[0 2 1 1 0 1 1 3 2 0 0 3 1 3 0 3 3 3 0 3 3 3 3 3 4 4 3 3 3 3 3]\n"
     ]
    },
    {
     "data": {
      "image/png": "[encoded data removed]",
      "text/plain": [
       "<Figure size 432x288 with 1 Axes>"
      ]
     },
     "metadata": {
      "needs_background": "light"
     },
     "output_type": "display_data"
    }
   ],
   "source": [
    "# 使用KMeans进行聚类\n",
    "from sklearn.cluster import KMeans\n",
    "from sklearn import preprocessing\n",
    "import pandas as pd\n",
    "import numpy as np\n",
    "\n",
    "# 数据加载\n",
    "\n",
    "data = pd.read_csv('.\\car_data.csv',encoding ='gbk')\n",
    "train_x = data[[\"人均GDP\",\"城镇人口比重\",\"交通工具消费价格指数\",\"百户拥有汽车量\"]]\n",
    "\n",
    "# 规范化到 [0,1] 空间\n",
    "min_max_scaler=preprocessing.MinMaxScaler()\n",
    "train_x=min_max_scaler.fit_transform(train_x)\n",
    "\n",
    "\n",
    "### 使用KMeans聚类,分成五类\n",
    "kmeans = KMeans(n_clusters=5)\n",
    "kmeans.fit(train_x)\n",
    "predict_y = kmeans.predict(train_x)\n",
    "# 合并聚类结果，插入到原数据中\n",
    "result = pd.concat((data,pd.DataFrame(predict_y)),axis=1)\n",
    "result.rename({0:u'聚类结果'},axis=1,inplace=True)\n",
    "# 将结果导出到CSV文件中\n",
    "print(result)\n",
    "result.to_csv(\".\\car_data_result.csv\",index=False,encoding ='gbk')\n",
    "\n",
    "# K-Means 手肘法：统计不同K取值的误差平方和\n",
    "import matplotlib.pyplot as plt\n",
    "sse = []\n",
    "for k in range(1, 11):\n",
    "\t# kmeans算法\n",
    "\tkmeans = KMeans(n_clusters=k)\n",
    "\tkmeans.fit(train_x)\n",
    "\t# 计算inertia簇内误差平方和\n",
    "\tsse.append(kmeans.inertia_)\n",
    "x = range(1, 11)\n",
    "plt.xlabel('K')\n",
    "plt.ylabel('SSE')\n",
    "plt.plot(x, sse, 'o-')\n",
    "plt.show()\n",
    "\n",
    "### 使用层次聚类\n",
    "from scipy.cluster.hierarchy import dendrogram, ward\n",
    "from sklearn.cluster import KMeans, AgglomerativeClustering\n",
    "import matplotlib.pyplot as plt\n",
    "model = AgglomerativeClustering(linkage='ward', n_clusters=5)\n",
    "y = model.fit_predict(train_x)\n",
    "print(y)\n",
    "\n",
    "##层次聚类画图\n",
    "linkage_matrix = ward(train_x)\n",
    "dendrogram(linkage_matrix)\n",
    "plt.show()"
   ]
  },
  {
   "cell_type": "code",
   "execution_count": null,
   "metadata": {},
   "outputs": [],
   "source": []
  }
 ],
 "metadata": {
  "kernelspec": {
   "display_name": "Python 3",
   "language": "python",
   "name": "python3"
  },
  "language_info": {
   "codemirror_mode": {
    "name": "ipython",
    "version": 3
   },
   "file_extension": ".py",
   "mimetype": "text/x-python",
   "name": "python",
   "nbconvert_exporter": "python",
   "pygments_lexer": "ipython3",
   "version": "3.7.6"
  }
 },
 "nbformat": 4,
 "nbformat_minor": 4
}
