{
 "cells": [
  {
   "cell_type": "code",
   "execution_count": 8,
   "metadata": {},
   "outputs": [
    {
     "name": "stdout",
     "output_type": "stream",
     "text": [
      "     car_ID  symboling                   CarName fueltype aspiration  \\\n",
      "0         1          3        alfa-romero giulia      gas        std   \n",
      "1         2          3       alfa-romero stelvio      gas        std   \n",
      "2         3          1  alfa-romero Quadrifoglio      gas        std   \n",
      "3         4          2               audi 100 ls      gas        std   \n",
      "4         5          2                audi 100ls      gas        std   \n",
      "..      ...        ...                       ...      ...        ...   \n",
      "200     201         -1           volvo 145e (sw)      gas        std   \n",
      "201     202         -1               volvo 144ea      gas      turbo   \n",
      "202     203         -1               volvo 244dl      gas        std   \n",
      "203     204         -1                 volvo 246   diesel      turbo   \n",
      "204     205         -1               volvo 264gl      gas      turbo   \n",
      "\n",
      "    doornumber      carbody drivewheel enginelocation  wheelbase  ...  \\\n",
      "0          two  convertible        rwd          front       88.6  ...   \n",
      "1          two  convertible        rwd          front       88.6  ...   \n",
      "2          two    hatchback        rwd          front       94.5  ...   \n",
      "3         four        sedan        fwd          front       99.8  ...   \n",
      "4         four        sedan        4wd          front       99.4  ...   \n",
      "..         ...          ...        ...            ...        ...  ...   \n",
      "200       four        sedan        rwd          front      109.1  ...   \n",
      "201       four        sedan        rwd          front      109.1  ...   \n",
      "202       four        sedan        rwd          front      109.1  ...   \n",
      "203       four        sedan        rwd          front      109.1  ...   \n",
      "204       four        sedan        rwd          front      109.1  ...   \n",
      "\n",
      "     fuelsystem  boreratio  stroke  compressionratio horsepower peakrpm  \\\n",
      "0          mpfi       3.47    2.68               9.0        111    5000   \n",
      "1          mpfi       3.47    2.68               9.0        111    5000   \n",
      "2          mpfi       2.68    3.47               9.0        154    5000   \n",
      "3          mpfi       3.19    3.40              10.0        102    5500   \n",
      "4          mpfi       3.19    3.40               8.0        115    5500   \n",
      "..          ...        ...     ...               ...        ...     ...   \n",
      "200        mpfi       3.78    3.15               9.5        114    5400   \n",
      "201        mpfi       3.78    3.15               8.7        160    5300   \n",
      "202        mpfi       3.58    2.87               8.8        134    5500   \n",
      "203         idi       3.01    3.40              23.0        106    4800   \n",
      "204        mpfi       3.78    3.15               9.5        114    5400   \n",
      "\n",
      "     citympg highwaympg    price  聚类结果  \n",
      "0         21         27  13495.0     2  \n",
      "1         21         27  16500.0     2  \n",
      "2         19         26  16500.0     2  \n",
      "3         24         30  13950.0     1  \n",
      "4         18         22  17450.0     1  \n",
      "..       ...        ...      ...   ...  \n",
      "200       23         28  16845.0     3  \n",
      "201       19         25  19045.0     3  \n",
      "202       18         23  21485.0     3  \n",
      "203       26         27  22470.0     0  \n",
      "204       19         25  22625.0     3  \n",
      "\n",
      "[205 rows x 27 columns]\n"
     ]
    },
    {
     "name": "stderr",
     "output_type": "stream",
     "text": [
      "d:\\Anaconda3\\lib\\site-packages\\ipykernel_launcher.py:13: SettingWithCopyWarning: \n",
      "A value is trying to be set on a copy of a slice from a DataFrame.\n",
      "Try using .loc[row_indexer,col_indexer] = value instead\n",
      "\n",
      "See the caveats in the documentation: https://pandas.pydata.org/pandas-docs/stable/user_guide/indexing.html#returning-a-view-versus-a-copy\n",
      "  del sys.path[0]\n"
     ]
    }
   ],
   "source": [
    "from sklearn.cluster import KMeans\n",
    "from sklearn import preprocessing\n",
    "import pandas as pd\n",
    "from sklearn.preprocessing import LabelEncoder\n",
    "import matplotlib.pyplot as plt\n",
    "\n",
    "#数据加载\n",
    "data = pd.read_csv(\"CarPrice_Assignment.csv\", encoding=\"gbk\")\n",
    "train_x = data[[\"fueltype\",\"aspiration\",\"doornumber\",\"carbody\",\"drivewheel\",\"enginelocation\",\"wheelbase\",\"carlength\",\"carwidth\",\"carheight\",\"curbweight\",\"enginetype\",\"cylindernumber\",\"enginesize\",\"fuelsystem\",\"boreratio\",\"stroke\",\"compressionratio\",\"horsepower\",\"peakrpm\",\"citympg\",\"highwaympg\",\"price\"]]\n",
    "    \n",
    "labels=[\"fueltype\",\"aspiration\",\"doornumber\",\"carbody\",\"drivewheel\",\"enginelocation\",\"enginetype\",\"cylindernumber\",\"fuelsystem\"]\n",
    "for label in labels:\n",
    "    train_x[label]=LabelEncoder().fit_transform(train_x[label])\n",
    "\n",
    "#将数据使用Min_max方法规范到[0,1]区间\n",
    "min_max_scaler = preprocessing.MinMaxScaler()\n",
    "train_x = min_max_scaler.fit_transform(train_x)\n",
    "\n",
    "#使用KMeans算法进行聚类\n",
    "kmeans = KMeans(n_clusters=5)\n",
    "kmeans.fit(train_x)\n",
    "predict_y = kmeans.predict(train_x)\n",
    "#print(predict_y)\n",
    "\n",
    "#合并聚类结果并插入到原数据中\n",
    "result = pd.concat((data, pd.DataFrame(predict_y)),axis=1)\n",
    "result.rename({0:u\"聚类结果\"}, axis=1, inplace=True)\n",
    "print(result)\n",
    "result.to_csv(\"car_data.csv\", encoding=\"gbk\")"
   ]
  },
  {
   "cell_type": "code",
   "execution_count": null,
   "metadata": {},
   "outputs": [],
   "source": []
  }
 ],
 "metadata": {
  "kernelspec": {
   "display_name": "Python 3",
   "language": "python",
   "name": "python3"
  },
  "language_info": {
   "codemirror_mode": {
    "name": "ipython",
    "version": 3
   },
   "file_extension": ".py",
   "mimetype": "text/x-python",
   "name": "python",
   "nbconvert_exporter": "python",
   "pygments_lexer": "ipython3",
   "version": "3.7.6"
  }
 },
 "nbformat": 4,
 "nbformat_minor": 4
}
