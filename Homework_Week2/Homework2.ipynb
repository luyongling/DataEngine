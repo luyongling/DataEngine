{
 "cells": [
  {
   "cell_type": "code",
   "execution_count": 3,
   "metadata": {
    "scrolled": false
   },
   "outputs": [
    {
     "name": "stdout",
     "output_type": "stream",
     "text": [
      "        id     brand car_model                         type  \\\n",
      "0   490161   一汽-大众奥迪     奥迪Q5L          2020款 40 TFSI 荣享进取型   \n",
      "1   490160      东风标致     标致207          2011款 1.4 手动 驭乐版 两厢   \n",
      "2   490159      吉利汽车        星越               2019款 350T 耀星者   \n",
      "3   490156      上汽大众      Polo            2018款 1.5L 自动 安驾型   \n",
      "4   490155      长安汽车    长安欧尚X7            2020款 1.5T 自动 豪华型   \n",
      "..     ...       ...       ...                          ...   \n",
      "25  488985      吉利汽车      帝豪GL            2017款 1.3T 手动 精英型   \n",
      "26  488984      华晨宝马      宝马5系            2020款 525Li M运动套装   \n",
      "27  488983      吉利汽车        博越        2020款 1.8TD DCT 智尊PRO   \n",
      "28  488981      吉利汽车        博越  2020款 1.8TD DCT 两驱 智联型4G互联版   \n",
      "29  488979  广汽菲克Jeep      大指挥官         2018款 2.0T 四驱 悦享版 国V   \n",
      "\n",
      "                    desc         problem    datetime status  \n",
      "0      一汽大众奥迪Q5L发动机故障灯常亮            A34,  2020-07-01   信息审核  \n",
      "1   东风标致207一挡起步踩油门时离合器打滑            C16,  2020-07-01   信息审核  \n",
      "2       吉利星越车机死机黑屏要求更换硬件      H155,M279,  2020-07-01   信息审核  \n",
      "3   上汽大众Polo转向异响希望厂家处理问题            D59,  2020-07-01   信息审核  \n",
      "4    长安欧尚X7车辆尾灯减配变速箱换挡闯挡  B19,M279,Q350,  2020-07-01   信息审核  \n",
      "..                   ...             ...         ...    ...  \n",
      "25   吉利帝豪GL副驾驶座椅缝线开裂海绵漏出      H168,H169,  2020-06-28   处理反馈  \n",
      "26      华晨宝马5系普利司通轮胎内壁破裂           F100,  2020-06-28   处理反馈  \n",
      "27     吉利博越实车没有前雾灯和挡位显示灯           M279,  2020-06-28   用户评分  \n",
      "28      吉利博越方向盘多功能按键松动失灵           H134,  2020-06-28   用户评分  \n",
      "29     广汽菲克Jeep大指挥官传动轴生锈            H79,  2020-06-28   厂家受理  \n",
      "\n",
      "[600 rows x 8 columns]\n"
     ]
    }
   ],
   "source": [
    "import requests\n",
    "import pandas as pd\n",
    "\n",
    "from bs4 import BeautifulSoup\n",
    "# 请求URL\n",
    "url = 'http://www.12365auto.com/zlts/0-0-0-0-0-0_0-0-0-0-0-0-0-1.shtml'\n",
    "\n",
    "# 得到页面的内容\n",
    "def get_page_content(request_url):\n",
    "    headers={'user-agent': 'Mozilla/5.0 (Windows NT 10.0; WOW64) AppleWebKit/537.36 (KHTML, like Gecko) Chrome/74.0.3729.131 Safari/537.36'}\n",
    "    html=requests.get(request_url,headers=headers,timeout=10)\n",
    "    content = html.text\n",
    "# 通过content创建BeautifulSoup对象\n",
    "    soup = BeautifulSoup(content, 'html.parser', from_encoding='utf-8')\n",
    "    return soup\n",
    "\n",
    "def analysis(soup):\n",
    "\n",
    "    temp = soup.find('div',class_='tslb_b')\n",
    "    # 创建dataframe\n",
    "    df = pd.DataFrame(columns = ['id', 'brand', 'car_model', 'type', 'desc', 'problem', 'datetime', 'status'])\n",
    "    tr_list = temp.find_all('tr')\n",
    " \n",
    "    for tr in tr_list:\n",
    "        temp={}\n",
    "        td_list=tr.find_all('td')\n",
    "\n",
    "        if len(td_list)>0:\n",
    "           id,brand,car_model,type,desc,problem,datetime,status = td_list[0].text,td_list[1].text,td_list[2].text,td_list[3].text,td_list[4].text,td_list[5].text,td_list[6].text,td_list[7].text\n",
    "           temp['id'],temp['brand'],temp['car_model'],temp['type'],temp['desc'],temp['problem'],temp['datetime'],temp['status']=id,brand,car_model,type,desc,problem,datetime,status\n",
    "           df=df.append(temp, ignore_index=True)\n",
    "           \n",
    "    return df\n",
    "\n",
    "      \n",
    "# df=analysis(soup)\n",
    "# print(df)\n",
    "        \n",
    "page_num=20\n",
    "base_url='http://www.12365auto.com/zlts/0-0-0-0-0-0_0-0-0-0-0-0-0-'\n",
    "result= pd.DataFrame(columns = ['id', 'brand', 'car_model', 'type', 'desc', 'problem', 'datetime', 'status'])\n",
    "\n",
    "for i in range(page_num):\n",
    "    request_url=base_url+str(i+1)+'.shtml'\n",
    "    soup=get_page_content(request_url)\n",
    "    df=analysis(soup)\n",
    "   \n",
    "    result=result.append(df)    \n",
    "   \n",
    "print(result)\n",
    "    \n",
    "result.to_csv('result.csv',encoding=\"utf_8\")"
   ]
  },
  {
   "cell_type": "code",
   "execution_count": null,
   "metadata": {},
   "outputs": [],
   "source": []
  }
 ],
 "metadata": {
  "kernelspec": {
   "display_name": "Python 3",
   "language": "python",
   "name": "python3"
  },
  "language_info": {
   "codemirror_mode": {
    "name": "ipython",
    "version": 3
   },
   "file_extension": ".py",
   "mimetype": "text/x-python",
   "name": "python",
   "nbconvert_exporter": "python",
   "pygments_lexer": "ipython3",
   "version": "3.7.6"
  }
 },
 "nbformat": 4,
 "nbformat_minor": 4
}
