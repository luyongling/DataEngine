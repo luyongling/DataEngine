{
 "cells": [
  {
   "cell_type": "code",
   "execution_count": 10,
   "metadata": {},
   "outputs": [
    {
     "name": "stdout",
     "output_type": "stream",
     "text": [
      "          Name Lowest Price Highest Price  \\\n",
      "0           探岳       18.59万        31.39万   \n",
      "1           途岳       16.58万        22.38万   \n",
      "2          途观L       21.88万        31.18万   \n",
      "3           途铠       11.49万        15.99万   \n",
      "4           途昂       29.99万        50.59万   \n",
      "5           探歌       13.58万        20.38万   \n",
      "6           途观       19.48万        23.18万   \n",
      "7           探影       11.49万        15.99万   \n",
      "8          探岳X       23.58万        29.58万   \n",
      "9          途昂X       28.99万        43.99万   \n",
      "10          途锐       56.98万        82.18万   \n",
      "11    途观L 插电混动       26.58万        32.58万   \n",
      "12      Tiguan       23.98万        35.08万   \n",
      "13  探岳GTE 插电混动       24.98万        25.98万   \n",
      "14     途锐 插电混动            -             -   \n",
      "\n",
      "                                          Picture URL  \n",
      "0   http://img2.bitautoimg.com/autoalbum/files/201...  \n",
      "1   http://img2.bitautoimg.com/autoalbum/files/201...  \n",
      "2   http://img4.bitautoimg.com/autoalbum/files/201...  \n",
      "3   http://img2.bitautoimg.com/autoalbum/files/201...  \n",
      "4   http://img3.bitautoimg.com/autoalbum/files/201...  \n",
      "5   http://img4.bitautoimg.com/autoalbum/files/201...  \n",
      "6   http://img1.bitautoimg.com/autoalbum/files/201...  \n",
      "7   http://img1.bitautoimg.com/autoalbum/files/201...  \n",
      "8   http://img1.bitautoimg.com/autoalbum/files/202...  \n",
      "9   http://img1.bitautoimg.com/autoalbum/files/201...  \n",
      "10  http://img3.bitautoimg.com/autoalbum/files/201...  \n",
      "11  http://img4.bitautoimg.com/autoalbum/files/201...  \n",
      "12  http://img1.bitautoimg.com/autoalbum/files/201...  \n",
      "13  http://img3.bitautoimg.com/autoalbum/files/202...  \n",
      "14  http://img4.bitautoimg.com/autoalbum/files/201...  \n"
     ]
    }
   ],
   "source": [
    "import requests\n",
    "import pandas as pd\n",
    "from bs4 import BeautifulSoup\n",
    "\n",
    "def get_page_content(request_url):\n",
    "    headers={'user-agent': 'Mozilla/5.0 (Windows NT 10.0; Win64; x64) AppleWebKit/537.36 (KHTML, like Gecko) Chrome/84.0.4147.89 Safari/537.36'}\n",
    "    html=requests.get(request_url,headers=headers,timeout=10)\n",
    "    content = html.text\n",
    "    soup = BeautifulSoup(content, 'html.parser', from_encoding = 'gbk')\n",
    "    return soup\n",
    "\n",
    "def analysis(soup):\n",
    "    temp = soup.find('div', class_='search-result-list')\n",
    "    df = pd.DataFrame(columns=['Name', 'Lowest Price', 'Highest Price', 'Picture URL'])\n",
    "    Name_list = temp.find_all('p', class_='cx-name text-hover')\n",
    "    Price_list = temp.find_all('p', class_='cx-price')\n",
    "    img_list = temp.find_all('img', class_='img')\n",
    "    \n",
    "    for i in range(len(Name_list)):\n",
    "        temp = {}\n",
    "        temp['Name'] = Name_list[i].text\n",
    "        temp['Picture URL'] = 'http:' + img_list[i]['src']\n",
    "        if Price_list[i].text == \"暂无\":\n",
    "            temp['Lowest Price'] = \"-\"\n",
    "            temp['Highest Price'] = \"-\"\n",
    "        else:\n",
    "            temp['Lowest Price'] = Price_list[i].text.split('-')[0] + \"万\"\n",
    "            temp['Highest Price'] = Price_list[i].text.split('-')[1]\n",
    "        df = df.append(temp, ignore_index=True)\n",
    "    return df \n",
    "\n",
    "url = 'http://car.bitauto.com/xuanchegongju/?l=8&mid=8'\n",
    "soup=get_page_content(url)\n",
    "car_list=analysis(soup)\n",
    "print(car_list)\n",
    "car_list.to_csv('car_list.csv',encoding=\"gbk\")"
   ]
  },
  {
   "cell_type": "code",
   "execution_count": null,
   "metadata": {},
   "outputs": [],
   "source": []
  }
 ],
 "metadata": {
  "kernelspec": {
   "display_name": "Python 3",
   "language": "python",
   "name": "python3"
  },
  "language_info": {
   "codemirror_mode": {
    "name": "ipython",
    "version": 3
   },
   "file_extension": ".py",
   "mimetype": "text/x-python",
   "name": "python",
   "nbconvert_exporter": "python",
   "pygments_lexer": "ipython3",
   "version": "3.7.6"
  }
 },
 "nbformat": 4,
 "nbformat_minor": 4
}
